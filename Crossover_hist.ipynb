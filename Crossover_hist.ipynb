{
 "cells": [
  {
   "cell_type": "code",
   "execution_count": 1,
   "metadata": {},
   "outputs": [],
   "source": [
    "import matplotlib.pyplot as plt\n",
    "from lib.DataWriter import DataWriter\n",
    "inter_type = {\n",
    "    0: 'Fourway',\n",
    "    1: 'Traffic lights',\n",
    "    2: 'Equivalent'\n",
    "}"
   ]
  },
  {
   "cell_type": "code",
   "execution_count": 7,
   "metadata": {},
   "outputs": [],
   "source": [
    "def get_parameters(p_spawn=0.1, max_speed_horizontal=3, max_speed_vertical=3, intersection_type = 'Fourway'):\n",
    "    t_traffic_light_cycle=5\n",
    "    p_bend = 0.33\n",
    "    p_u_turn = 0.01\n",
    "    p_left = p_bend\n",
    "    p_right = p_bend\n",
    "    p_straight = p_bend\n",
    "    t_from_north = t_traffic_light_cycle\n",
    "    t_from_west = t_traffic_light_cycle\n",
    "    t_from_east = t_traffic_light_cycle\n",
    "    t_from_south = t_traffic_light_cycle\n",
    "\n",
    "\n",
    "    parameters = {\n",
    "        \"max_speed_horizontal\": max_speed_horizontal,\n",
    "        \"max_speed_vertical\": max_speed_vertical,\n",
    "        \"alpha_factor\": 5,\n",
    "        \"beta_factor\": 2,\n",
    "        \"intersection_type\": intersection_type,\n",
    "        \"t_from_north\": t_from_north,\n",
    "        \"t_from_west\": t_from_west,\n",
    "        \"t_from_east\": t_from_east,\n",
    "        \"t_from_south\": t_from_south,\n",
    "        \"p_car_spawn_north\": p_spawn,\n",
    "        \"p_north_to_north\": p_u_turn,\n",
    "        \"p_north_to_west\": p_right,\n",
    "        \"p_north_to_east\": p_left,\n",
    "        \"p_north_to_south\": p_straight,\n",
    "        \"p_car_spawn_west\": p_spawn,\n",
    "        \"p_west_to_north\": p_left,\n",
    "        \"p_west_to_west\": p_u_turn,\n",
    "        \"p_west_to_east\": p_straight,\n",
    "        \"p_west_to_south\": p_right,\n",
    "        \"p_car_spawn_east\": p_spawn,\n",
    "        \"p_east_to_north\": p_right,\n",
    "        \"p_east_to_west\": p_straight,\n",
    "        \"p_east_to_east\": p_u_turn,\n",
    "        \"p_east_to_south\": p_left,\n",
    "        \"p_car_spawn_south\": p_spawn,\n",
    "        \"p_south_to_north\": p_straight,\n",
    "        \"p_south_to_west\": p_left,\n",
    "        \"p_south_to_east\": p_right,\n",
    "        \"p_south_to_south\": p_u_turn,\n",
    "    }\n",
    "    return parameters\n"
   ]
  },
  {
   "cell_type": "code",
   "execution_count": 11,
   "metadata": {},
   "outputs": [
    {
     "name": "stdout",
     "output_type": "stream",
     "text": [
      "Found run ids: (1,)\n",
      "Found run ids: (422,)\n",
      "Found run ids: (458,)\n",
      "Found run ids: (494,)\n",
      "Found run ids: (382,)\n",
      "Found run ids: (423,)\n",
      "Found run ids: (459,)\n",
      "Found run ids: (495,)\n",
      "Found run ids: (383,)\n",
      "Found run ids: (424,)\n",
      "Found run ids: (460,)\n",
      "Found run ids: (496,)\n",
      "Found run ids: (384,)\n",
      "Found run ids: (425,)\n",
      "Found run ids: (461,)\n",
      "Found run ids: (497,)\n",
      "Found run ids: (385,)\n",
      "Found run ids: (426,)\n",
      "Found run ids: (462,)\n",
      "Found run ids: (498,)\n",
      "Found run ids: (386,)\n",
      "Found run ids: (427,)\n",
      "Found run ids: (463,)\n",
      "Found run ids: (499,)\n",
      "Found run ids: (387,)\n",
      "Found run ids: (428,)\n",
      "Found run ids: (464,)\n",
      "Found run ids: (500,)\n",
      "Found run ids: (388,)\n",
      "Found run ids: (429,)\n",
      "Found run ids: (465,)\n",
      "Found run ids: (501,)\n",
      "Found run ids: (389,)\n",
      "Found run ids: (430,)\n",
      "Found run ids: (466,)\n",
      "Found run ids: (502,)\n",
      "Found run ids: (390,)\n",
      "Found run ids: (431,)\n",
      "Found run ids: (467,)\n",
      "Found run ids: (503,)\n",
      "Found run ids: (391,)\n",
      "Found run ids: (432,)\n",
      "Found run ids: (468,)\n",
      "Found run ids: (504,)\n",
      "Found run ids: (392,)\n",
      "Found run ids: (433,)\n",
      "Found run ids: (469,)\n",
      "Found run ids: (505,)\n",
      "Found run ids: (393,)\n",
      "Found run ids: (434,)\n",
      "Found run ids: (470,)\n",
      "Found run ids: (506,)\n",
      "Found run ids: (394,)\n",
      "Found run ids: (435,)\n",
      "Found run ids: (471,)\n",
      "Found run ids: (507,)\n",
      "Found run ids: (395,)\n",
      "Found run ids: (436,)\n",
      "Found run ids: (472,)\n",
      "Found run ids: (508,)\n",
      "Found run ids: (396,)\n",
      "Found run ids: (437,)\n",
      "Found run ids: (473,)\n",
      "Found run ids: (509,)\n",
      "Found run ids: (397,)\n",
      "Found run ids: (438,)\n",
      "Found run ids: (474,)\n",
      "Found run ids: (510,)\n",
      "Found run ids: (398,)\n",
      "Found run ids: (439,)\n",
      "Found run ids: (475,)\n",
      "Found run ids: (511,)\n",
      "Found run ids: (399,)\n",
      "Found run ids: (440,)\n",
      "Found run ids: (476,)\n",
      "Found run ids: (512,)\n",
      "Found run ids: (400,)\n",
      "Found run ids: (441,)\n",
      "Found run ids: (477,)\n",
      "Found run ids: (513,)\n",
      "Found run ids: (401,)\n",
      "Found run ids: (442,)\n",
      "Found run ids: (478,)\n",
      "Found run ids: (514,)\n",
      "Found run ids: (402,)\n",
      "Found run ids: (443,)\n",
      "Found run ids: (479,)\n",
      "Found run ids: (515,)\n",
      "Found run ids: (403,)\n",
      "Found run ids: (444,)\n",
      "Found run ids: (480,)\n",
      "Found run ids: (516,)\n",
      "Found run ids: (404,)\n",
      "Found run ids: (445,)\n",
      "Found run ids: (481,)\n",
      "Found run ids: (517,)\n",
      "Found run ids: (405,)\n",
      "Found run ids: (446,)\n",
      "Found run ids: (482,)\n",
      "Found run ids: (518,)\n",
      "Found run ids: (406,)\n",
      "Found run ids: (447,)\n",
      "Found run ids: (483,)\n",
      "Found run ids: (519,)\n",
      "Found run ids: (407,)\n",
      "Found run ids: (448,)\n",
      "Found run ids: (484,)\n",
      "Found run ids: (520,)\n",
      "Found run ids: (408,)\n",
      "Found run ids: (449,)\n",
      "Found run ids: (485,)\n",
      "Found run ids: (521,)\n",
      "Found run ids: (409,)\n",
      "Found run ids: (450,)\n",
      "Found run ids: (486,)\n",
      "Found run ids: (522,)\n",
      "Found run ids: (410,)\n",
      "Found run ids: (451,)\n",
      "Found run ids: (487,)\n",
      "Found run ids: (523,)\n",
      "Found run ids: (411,)\n",
      "Found run ids: (452,)\n",
      "Found run ids: (488,)\n",
      "Found run ids: (524,)\n",
      "Found run ids: (412,)\n",
      "Found run ids: (453,)\n",
      "Found run ids: (489,)\n",
      "Found run ids: (525,)\n",
      "Found run ids: (413,)\n",
      "Found run ids: (454,)\n",
      "Found run ids: (490,)\n",
      "Found run ids: (526,)\n",
      "Found run ids: (414,)\n",
      "Found run ids: (455,)\n",
      "Found run ids: (491,)\n",
      "Found run ids: (527,)\n",
      "Found run ids: (415,)\n",
      "Found run ids: (456,)\n",
      "Found run ids: (492,)\n",
      "Found run ids: (528,)\n",
      "Found run ids: (416,)\n",
      "Found run ids: (457,)\n",
      "Found run ids: (493,)\n",
      "Found run ids: (529,)\n"
     ]
    }
   ],
   "source": [
    "# set some parameters :\n",
    "speeds = range(3, 15)\n",
    "p_spawn=[0.1,.33, 0.66,.99]\n",
    "\n",
    "cross_dict = {}\n",
    "\n",
    "for intersection in inter_type.values():\n",
    "    mean_crossover_per_intersection = []\n",
    "    for speed in speeds:\n",
    "        for p in p_spawn:\n",
    "            parameters = get_parameters(p, speed, speed, intersection)\n",
    "            datawriter = DataWriter()\n",
    "            data = datawriter.get_runs_by_parameters(parameters)\n",
    "            mean_crossover_per_intersection.append(data['results']['mean_crossover_time'][-1])\n",
    "    cross_dict[intersection] = mean_crossover_per_intersection"
   ]
  },
  {
   "cell_type": "code",
   "execution_count": 12,
   "metadata": {},
   "outputs": [
    {
     "name": "stdout",
     "output_type": "stream",
     "text": [
      "{'Fourway': [0.0, 0.0, 0.0, 0.0, 0.0, 0.0, 0.0, 0.0, 47.0, 49.0, 49.0, 0.0, 46.0, 44.0, 44.0, 44.0, 47.0, 41.0, 43.0, 46.0, 43.333333333333336, 44.0, 43.5, 41.0, 36.5, 41.0, 41.8, 40.0, 34.666666666666664, 39.0, 39.5, 38.5, 34.5, 40.5, 40.5, 39.0, 35.666666666666664, 42.333333333333336, 41.0, 37.5, 39.0, 40.0, 39.0, 37.666666666666664, 36.25, 37.666666666666664, 40.5, 39.0], 'Traffic lights': [0.0, 0.0, 0.0, 0.0, 0.0, 0.0, 0.0, 0.0, 0.0, 0.0, 0.0, 0.0, 0.0, 0.0, 0.0, 0.0, 0.0, 38.0, 0.0, 40.0, 37.0, 44.0, 39.0, 35.0, 0.0, 39.0, 42.0, 35.0, 47.0, 41.0, 34.0, 41.5, 46.0, 37.5, 31.0, 39.5, 32.0, 40.0, 43.666666666666664, 41.0, 47.0, 32.0, 42.0, 42.666666666666664, 33.5, 38.0, 40.0, 41.0], 'Equivalent': [0.0, 0.0, 0.0, 0.0, 0.0, 0.0, 0.0, 0.0, 47.0, 49.0, 0.0, 0.0, 46.0, 44.0, 45.25, 43.0, 42.0, 43.75, 45.0, 43.666666666666664, 41.333333333333336, 40.857142857142854, 40.0, 42.666666666666664, 42.5, 38.333333333333336, 40.4, 41.6, 37.0, 37.75, 37.666666666666664, 38.6, 39.5, 35.0, 41.5, 39.166666666666664, 34.75, 38.6, 40.0, 38.0, 39.5, 43.333333333333336, 38.666666666666664, 39.4, 37.0, 38.166666666666664, 39.0, 35.4]}\n"
     ]
    }
   ],
   "source": []
  },
  {
   "cell_type": "code",
   "execution_count": 19,
   "metadata": {},
   "outputs": [
    {
     "data": {
      "image/png": "[encoded data removed]",
      "text/plain": [
       "<Figure size 432x288 with 1 Axes>"
      ]
     },
     "metadata": {
      "needs_background": "light"
     },
     "output_type": "display_data"
    }
   ],
   "source": [
    "for key in cross_dict.keys():\n",
    "    plt.hist(cross_dict[key],bins = 20, label = key, alpha = .5)"
   ]
  },
  {
   "cell_type": "code",
   "execution_count": 36,
   "metadata": {},
   "outputs": [
    {
     "name": "stderr",
     "output_type": "stream",
     "text": [
      "/home/lau/anaconda2/envs/py36/lib/python3.6/site-packages/matplotlib/figure.py:2366: UserWarning: This figure includes Axes that are not compatible with tight_layout, so results might be incorrect.\n",
      "  warnings.warn(\"This figure includes Axes that are not compatible \"\n"
     ]
    },
    {
     "data": {
      "image/png": "[encoded data removed]",
      "text/plain": [
       "<Figure size 720x360 with 3 Axes>"
      ]
     },
     "metadata": {
      "needs_background": "light"
     },
     "output_type": "display_data"
    }
   ],
   "source": [
    "fig, axs = plt.subplots(1, 3,figsize = (10,5), sharey=False, tight_layout=True)\n",
    "\n",
    "keys = list(cross_dict.keys())\n",
    "\n",
    "for key in cross_dict.keys():\n",
    "    ind = keys.index(key)\n",
    "    axs[ind].hist(cross_dict[key],bins = 15, label = key, alpha = .5)\n",
    "    axs[ind].set_title(key)\n",
    "    axs[ind].set_ylabel('Frequency')\n",
    "    axs[ind].set_xlabel('Mean_crossover_time')"
   ]
  },
  {
   "cell_type": "code",
   "execution_count": null,
   "metadata": {},
   "outputs": [],
   "source": []
  }
 ],
 "metadata": {
  "kernelspec": {
   "display_name": "Python 3",
   "language": "python",
   "name": "python3"
  },
  "language_info": {
   "codemirror_mode": {
    "name": "ipython",
    "version": 3
   },
   "file_extension": ".py",
   "mimetype": "text/x-python",
   "name": "python",
   "nbconvert_exporter": "python",
   "pygments_lexer": "ipython3",
   "version": "3.6.7"
  }
 },
 "nbformat": 4,
 "nbformat_minor": 2
}
