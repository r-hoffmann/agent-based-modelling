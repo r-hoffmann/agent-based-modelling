{
 "cells": [
  {
   "cell_type": "code",
   "execution_count": 1,
   "metadata": {},
   "outputs": [],
   "source": [
    "import matplotlib.pyplot as plt\n",
    "from lib.DataWriter import DataWriter\n",
    "inter_type = {\n",
    "    0: 'Fourway',\n",
    "    1: 'Traffic lights',\n",
    "    2: 'Equivalent',\n",
    "    4: 'Smart_lights'\n",
    "}"
   ]
  },
  {
   "cell_type": "code",
   "execution_count": 2,
   "metadata": {},
   "outputs": [],
   "source": [
    "def get_parameters(p_spawn=0.1, max_speed_horizontal=3, max_speed_vertical=3, intersection_type = 'Fourway'):\n",
    "    t_traffic_light_cycle=5\n",
    "    p_bend = 0.33\n",
    "    p_u_turn = 0.01\n",
    "    p_left = p_bend\n",
    "    p_right = p_bend\n",
    "    p_straight = p_bend\n",
    "    t_from_north = t_traffic_light_cycle\n",
    "    t_from_west = t_traffic_light_cycle\n",
    "    t_from_east = t_traffic_light_cycle\n",
    "    t_from_south = t_traffic_light_cycle\n",
    "\n",
    "\n",
    "    parameters = {\n",
    "        \"max_speed_horizontal\": max_speed_horizontal,\n",
    "        \"max_speed_vertical\": max_speed_vertical,\n",
    "        \"alpha_factor\": 5,\n",
    "        \"beta_factor\": 2,\n",
    "        \"intersection_type\": intersection_type,\n",
    "        \"t_from_north\": t_from_north,\n",
    "        \"t_from_west\": t_from_west,\n",
    "        \"t_from_east\": t_from_east,\n",
    "        \"t_from_south\": t_from_south,\n",
    "        \"p_car_spawn_north\": p_spawn,\n",
    "        \"p_north_to_north\": p_u_turn,\n",
    "        \"p_north_to_west\": p_right,\n",
    "        \"p_north_to_east\": p_left,\n",
    "        \"p_north_to_south\": p_straight,\n",
    "        \"p_car_spawn_west\": p_spawn,\n",
    "        \"p_west_to_north\": p_left,\n",
    "        \"p_west_to_west\": p_u_turn,\n",
    "        \"p_west_to_east\": p_straight,\n",
    "        \"p_west_to_south\": p_right,\n",
    "        \"p_car_spawn_east\": p_spawn,\n",
    "        \"p_east_to_north\": p_right,\n",
    "        \"p_east_to_west\": p_straight,\n",
    "        \"p_east_to_east\": p_u_turn,\n",
    "        \"p_east_to_south\": p_left,\n",
    "        \"p_car_spawn_south\": p_spawn,\n",
    "        \"p_south_to_north\": p_straight,\n",
    "        \"p_south_to_west\": p_left,\n",
    "        \"p_south_to_east\": p_right,\n",
    "        \"p_south_to_south\": p_u_turn,\n",
    "    }\n",
    "    return parameters\n"
   ]
  },
  {
   "cell_type": "code",
   "execution_count": null,
   "metadata": {},
   "outputs": [
    {
     "name": "stdout",
     "output_type": "stream",
     "text": [
      "6959\n",
      "7242\n",
      "3421\n",
      "2884\n",
      "12\n",
      "3068\n",
      "5258\n",
      "1825\n",
      "2064\n",
      "8227\n",
      "1452\n",
      "7381\n",
      "1367\n",
      "9718\n",
      "9100\n",
      "3567\n",
      "649\n",
      "1578\n",
      "1538\n",
      "9500\n",
      "5281\n",
      "8008\n",
      "2087\n",
      "3392\n",
      "3493\n",
      "2442\n",
      "6369\n",
      "4216\n",
      "7666\n",
      "6820\n",
      "3366\n",
      "4047\n",
      "7103\n",
      "7737\n",
      "8116\n",
      "382\n",
      "90\n",
      "6970\n",
      "8030\n",
      "8434\n",
      "5910\n",
      "1749\n",
      "9545\n",
      "5413\n",
      "951\n",
      "1469\n",
      "1784\n",
      "1397\n"
     ]
    }
   ],
   "source": [
    "import random \n",
    "fourway = []\n",
    "traffic_lights = []\n",
    "equivalent = []\n",
    "smart_lights = []\n",
    "\n",
    "for run_id in random.sample(range(1,10000),1000):\n",
    "    datawriter = DataWriter()\n",
    "    data = datawriter.read_database(run_id)\n",
    "    if data['parameters']['intersection_type'] == 'Fourway':\n",
    "        throughput = data['results']['throughput'][-1]\n",
    "        p_spawn = data['parameters']['p_car_spawn_east']\n",
    "        av_speed = data['results']['average_speed'][-1]\n",
    "        if throughput != 0:\n",
    "            fourway.append([throughput,p_spawn,av_speed])\n",
    "    elif data['parameters']['intersection_type'] == 'Traffic lights':\n",
    "        throughput = data['results']['throughput'][-1]\n",
    "        p_spawn = data['parameters']['p_car_spawn_east']\n",
    "        av_speed = data['results']['average_speed'][-1]\n",
    "        if throughput != 0:\n",
    "            traffic_lights.append([throughput,p_spawn,av_speed])\n",
    "    elif data['parameters']['intersection_type'] == 'Equivalent':\n",
    "        throughput = data['results']['throughput'][-1]\n",
    "        p_spawn = data['parameters']['p_car_spawn_east']\n",
    "        av_speed = data['results']['average_speed'][-1]\n",
    "        if throughput != 0:\n",
    "            equivalent.append([throughput,p_spawn,av_speed])\n",
    "    else:\n",
    "        throughput = data['results']['throughput'][-1]\n",
    "        p_spawn = data['parameters']['p_car_spawn_east']\n",
    "        av_speed = data['results']['average_speed'][-1]\n",
    "        if throughput != 0:\n",
    "            smart_lights.append([throughput,p_spawn,av_speed])\n",
    "    print(run_id)\n",
    "    \n",
    "    "
   ]
  },
  {
   "cell_type": "code",
   "execution_count": 5,
   "metadata": {},
   "outputs": [
    {
     "data": {
      "image/png": "[encoded data removed]",
      "text/plain": [
       "<Figure size 432x288 with 1 Axes>"
      ]
     },
     "metadata": {
      "needs_background": "light"
     },
     "output_type": "display_data"
    }
   ],
   "source": [
    "# set some parameters :\n",
    "\n",
    "\n",
    "cross_dict = {'Fourway':fourway, 'Traffic_lights':traffic_lights, 'Equivalent':equivalent,'Smart_lights': smart_lights}\n",
    "#print(cross_dict)\n",
    "for key in cross_dict.keys():\n",
    "    through = [x[0] for x in cross_dict[key]]\n",
    "    p = [z[1] for z in cross_dict[key]]\n",
    "    plt.scatter(p,through, alpha = .5, label = key)\n",
    "        \n",
    "plt.legend()\n",
    "plt.show()"
   ]
  },
  {
   "cell_type": "code",
   "execution_count": null,
   "metadata": {},
   "outputs": [],
   "source": []
  },
  {
   "cell_type": "code",
   "execution_count": 6,
   "metadata": {},
   "outputs": [
    {
     "data": {
      "image/png": "[encoded data removed]",
      "text/plain": [
       "<Figure size 432x288 with 1 Axes>"
      ]
     },
     "metadata": {
      "needs_background": "light"
     },
     "output_type": "display_data"
    }
   ],
   "source": [
    "for key in cross_dict.keys():\n",
    "    plt.hist(cross_dict[key],bins = 50, label = key, alpha = .5)"
   ]
  },
  {
   "cell_type": "code",
   "execution_count": 7,
   "metadata": {},
   "outputs": [
    {
     "name": "stderr",
     "output_type": "stream",
     "text": [
      "/home/lau/anaconda2/envs/py36/lib/python3.6/site-packages/matplotlib/figure.py:2366: UserWarning: This figure includes Axes that are not compatible with tight_layout, so results might be incorrect.\n",
      "  warnings.warn(\"This figure includes Axes that are not compatible \"\n"
     ]
    },
    {
     "data": {
      "image/png": "[encoded data removed]",
      "text/plain": [
       "<Figure size 720x360 with 4 Axes>"
      ]
     },
     "metadata": {
      "needs_background": "light"
     },
     "output_type": "display_data"
    }
   ],
   "source": [
    "fig, axs = plt.subplots(1, 4,figsize = (10,5), sharey=False, tight_layout=True)\n",
    "\n",
    "keys = list(cross_dict.keys())\n",
    "\n",
    "for key in cross_dict.keys():\n",
    "    ind = keys.index(key)\n",
    "    axs[ind].hist(cross_dict[key],bins = 15, label = key, alpha = .5)\n",
    "    axs[ind].set_title(key)\n",
    "    axs[ind].set_ylabel('Frequency')\n",
    "    axs[ind].set_xlabel('Mean_crossover_time')"
   ]
  },
  {
   "cell_type": "code",
   "execution_count": 8,
   "metadata": {},
   "outputs": [
    {
     "ename": "TypeError",
     "evalue": "scatter() missing 2 required positional arguments: 'x' and 'y'",
     "output_type": "error",
     "traceback": [
      "\u001b[0;31m---------------------------------------------------------------------------\u001b[0m",
      "\u001b[0;31mTypeError\u001b[0m                                 Traceback (most recent call last)",
      "\u001b[0;32m<ipython-input-8-297a304fab35>\u001b[0m in \u001b[0;36m<module>\u001b[0;34m()\u001b[0m\n\u001b[1;32m      2\u001b[0m \u001b[0;34m\u001b[0m\u001b[0m\n\u001b[1;32m      3\u001b[0m \u001b[0;32mfor\u001b[0m \u001b[0mkey\u001b[0m \u001b[0;32min\u001b[0m \u001b[0mcross_dict\u001b[0m\u001b[0;34m.\u001b[0m\u001b[0mkeys\u001b[0m\u001b[0;34m(\u001b[0m\u001b[0;34m)\u001b[0m\u001b[0;34m:\u001b[0m\u001b[0;34m\u001b[0m\u001b[0;34m\u001b[0m\u001b[0m\n\u001b[0;32m----> 4\u001b[0;31m     \u001b[0mplt\u001b[0m\u001b[0;34m.\u001b[0m\u001b[0mscatter\u001b[0m\u001b[0;34m(\u001b[0m\u001b[0;34m)\u001b[0m\u001b[0;34m\u001b[0m\u001b[0;34m\u001b[0m\u001b[0m\n\u001b[0m",
      "\u001b[0;31mTypeError\u001b[0m: scatter() missing 2 required positional arguments: 'x' and 'y'"
     ]
    }
   ],
   "source": [
    "keys = list(cross_dict.keys())\n",
    "\n",
    "for key in cross_dict.keys():\n",
    "    plt.scatter()"
   ]
  },
  {
   "cell_type": "code",
   "execution_count": null,
   "metadata": {},
   "outputs": [],
   "source": []
  }
 ],
 "metadata": {
  "kernelspec": {
   "display_name": "Python 3",
   "language": "python",
   "name": "python3"
  },
  "language_info": {
   "codemirror_mode": {
    "name": "ipython",
    "version": 3
   },
   "file_extension": ".py",
   "mimetype": "text/x-python",
   "name": "python",
   "nbconvert_exporter": "python",
   "pygments_lexer": "ipython3",
   "version": "3.6.7"
  }
 },
 "nbformat": 4,
 "nbformat_minor": 2
}
