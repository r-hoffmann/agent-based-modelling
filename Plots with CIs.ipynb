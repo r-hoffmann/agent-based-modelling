{
 "cells": [
  {
   "cell_type": "code",
   "execution_count": 1,
   "metadata": {},
   "outputs": [],
   "source": [
    "import matplotlib.pyplot as plt\n",
    "from lib.DataWriter import DataWriter\n",
    "inter_type = {\n",
    "    0: 'Fourway',\n",
    "    1: 'Traffic lights',\n",
    "    2: 'Equivalent',\n",
    "    4: 'Smart_lights'\n",
    "}"
   ]
  },
  {
   "cell_type": "code",
   "execution_count": 2,
   "metadata": {},
   "outputs": [],
   "source": [
    "def get_parameters(p_spawn=0.1, max_speed_horizontal=3, max_speed_vertical=3, intersection_type = 'Fourway'):\n",
    "    t_traffic_light_cycle=5\n",
    "    p_bend = 0.33\n",
    "    p_u_turn = 0.01\n",
    "    p_left = p_bend\n",
    "    p_right = p_bend\n",
    "    p_straight = p_bend\n",
    "    t_from_north = t_traffic_light_cycle\n",
    "    t_from_west = t_traffic_light_cycle\n",
    "    t_from_east = t_traffic_light_cycle\n",
    "    t_from_south = t_traffic_light_cycle\n",
    "\n",
    "\n",
    "    parameters = {\n",
    "        \"max_speed_horizontal\": max_speed_horizontal,\n",
    "        \"max_speed_vertical\": max_speed_vertical,\n",
    "        \"alpha_factor\": 5,\n",
    "        \"beta_factor\": 2,\n",
    "        \"intersection_type\": intersection_type,\n",
    "        \"t_from_north\": t_from_north,\n",
    "        \"t_from_west\": t_from_west,\n",
    "        \"t_from_east\": t_from_east,\n",
    "        \"t_from_south\": t_from_south,\n",
    "        \"p_car_spawn_north\": p_spawn,\n",
    "        \"p_north_to_north\": p_u_turn,\n",
    "        \"p_north_to_west\": p_right,\n",
    "        \"p_north_to_east\": p_left,\n",
    "        \"p_north_to_south\": p_straight,\n",
    "        \"p_car_spawn_west\": p_spawn,\n",
    "        \"p_west_to_north\": p_left,\n",
    "        \"p_west_to_west\": p_u_turn,\n",
    "        \"p_west_to_east\": p_straight,\n",
    "        \"p_west_to_south\": p_right,\n",
    "        \"p_car_spawn_east\": p_spawn,\n",
    "        \"p_east_to_north\": p_right,\n",
    "        \"p_east_to_west\": p_straight,\n",
    "        \"p_east_to_east\": p_u_turn,\n",
    "        \"p_east_to_south\": p_left,\n",
    "        \"p_car_spawn_south\": p_spawn,\n",
    "        \"p_south_to_north\": p_straight,\n",
    "        \"p_south_to_west\": p_left,\n",
    "        \"p_south_to_east\": p_right,\n",
    "        \"p_south_to_south\": p_u_turn,\n",
    "    }\n",
    "    return parameters\n"
   ]
  },
  {
   "cell_type": "code",
   "execution_count": 45,
   "metadata": {},
   "outputs": [
    {
     "name": "stdout",
     "output_type": "stream",
     "text": [
      "9781\n",
      "6871\n",
      "1853\n",
      "6979\n",
      "9156\n",
      "6775\n",
      "3021\n",
      "8531\n",
      "3171\n",
      "3367\n",
      "5815\n",
      "8467\n",
      "1046\n",
      "5900\n",
      "4791\n",
      "7990\n",
      "6338\n",
      "108\n",
      "9139\n",
      "5256\n",
      "8374\n",
      "4209\n",
      "6982\n",
      "709\n",
      "8474\n",
      "1227\n",
      "903\n",
      "3386\n",
      "6339\n",
      "8732\n",
      "3952\n",
      "231\n",
      "3649\n",
      "8176\n",
      "164\n",
      "6318\n",
      "4378\n",
      "452\n",
      "4734\n",
      "1014\n",
      "8974\n",
      "2816\n",
      "2740\n",
      "9748\n",
      "3395\n",
      "4516\n",
      "4357\n",
      "3621\n",
      "9042\n",
      "1118\n",
      "477\n",
      "8923\n",
      "8503\n",
      "849\n",
      "8851\n",
      "9552\n",
      "5116\n",
      "3989\n",
      "7323\n",
      "6897\n",
      "3042\n",
      "579\n",
      "5165\n",
      "7863\n",
      "1901\n",
      "2076\n",
      "372\n",
      "9713\n",
      "9827\n",
      "5454\n",
      "3413\n",
      "5099\n",
      "2722\n",
      "9443\n",
      "1445\n",
      "299\n",
      "5079\n",
      "9939\n",
      "78\n",
      "553\n",
      "6445\n",
      "4884\n",
      "7104\n",
      "1883\n",
      "8606\n",
      "8975\n",
      "2026\n",
      "8412\n",
      "844\n",
      "3013\n",
      "6971\n",
      "5989\n",
      "5560\n",
      "2551\n",
      "6279\n",
      "3923\n",
      "3916\n",
      "515\n",
      "6061\n",
      "407\n"
     ]
    }
   ],
   "source": [
    "import random \n",
    "fourway = []\n",
    "traffic_lights = []\n",
    "equivalent = []\n",
    "smart_lights = []\n",
    "\n",
    "for run_id in random.sample(range(1,10000),100):\n",
    "    datawriter = DataWriter()\n",
    "    data = datawriter.read_database(run_id)\n",
    "    if data['parameters']['intersection_type'] == 'Fourway':\n",
    "        throughput = data['results']['throughput'][-1]\n",
    "        p_spawn = data['parameters']['p_car_spawn_east']\n",
    "        av_speed = data['results']['average_speed'][-1]\n",
    "        if throughput != 0:\n",
    "            fourway.append([throughput,p_spawn,av_speed])\n",
    "    elif data['parameters']['intersection_type'] == 'Traffic_lights':\n",
    "        throughput = data['results']['throughput'][-1]\n",
    "        p_spawn = data['parameters']['p_car_spawn_east']\n",
    "        av_speed = data['results']['average_speed'][-1]\n",
    "        if throughput != 0:\n",
    "            traffic_lights.append([throughput,p_spawn,av_speed])\n",
    "    elif data['parameters']['intersection_type'] == 'Equivalent':\n",
    "        throughput = data['results']['throughput'][-1]\n",
    "        p_spawn = data['parameters']['p_car_spawn_east']\n",
    "        av_speed = data['results']['average_speed'][-1]\n",
    "        if throughput != 0:\n",
    "            equivalent.append([throughput,p_spawn,av_speed])\n",
    "    else:\n",
    "        throughput = data['results']['throughput'][-1]\n",
    "        p_spawn = data['parameters']['p_car_spawn_east']\n",
    "        av_speed = data['results']['average_speed'][-1]\n",
    "        if throughput != 0:\n",
    "            smart_lights.append([throughput,p_spawn,av_speed])\n",
    "    print(run_id)\n",
    "    \n",
    "    "
   ]
  },
  {
   "cell_type": "code",
   "execution_count": 43,
   "metadata": {},
   "outputs": [
    {
     "data": {
      "image/png": "[encoded data removed]",
      "text/plain": [
       "<Figure size 432x288 with 1 Axes>"
      ]
     },
     "metadata": {
      "needs_background": "light"
     },
     "output_type": "display_data"
    }
   ],
   "source": [
    "# set some parameters :\n",
    "\n",
    "\n",
    "cross_dict = {'Fourway':fourway, 'Traffic_lights':traffic_lights, 'Equivalent':equivalent,'Smart_lights': smart_lights}\n",
    "#print(cross_dict)\n",
    "for key in cross_dict.keys():\n",
    "    through = [x[0] for x in cross_dict[key]]\n",
    "    p = [z[1] for z in cross_dict[key]]\n",
    "    plt.scatter(p,through, alpha = .5, label = key)\n",
    "        \n",
    "plt.legend()\n",
    "plt.show()"
   ]
  },
  {
   "cell_type": "code",
   "execution_count": 44,
   "metadata": {},
   "outputs": [],
   "source": [
    "cross_dict = {'Fourway':fourway, 'Traffic_lights':traffic_lights, 'Equivalent':equivalent,'Smart_lights': smart_lights}"
   ]
  },
  {
   "cell_type": "code",
   "execution_count": 39,
   "metadata": {},
   "outputs": [
    {
     "data": {
      "text/plain": [
       "Text(0.5, 0, 'Car flow')"
      ]
     },
     "execution_count": 39,
     "metadata": {},
     "output_type": "execute_result"
    },
    {
     "data": {
      "image/png": "[encoded data removed]",
      "text/plain": [
       "<Figure size 432x288 with 1 Axes>"
      ]
     },
     "metadata": {
      "needs_background": "light"
     },
     "output_type": "display_data"
    }
   ],
   "source": [
    "for key,values in cross_dict.items():\n",
    "    fl = [x[0] for x in values]\n",
    "    plt.hist(fl,bins = 10, label = key, alpha = .5)\n",
    "plt.title('Histogram of car flow on different intersections')\n",
    "plt.ylabel('Frequency')\n",
    "plt.xlabel('Car flow')"
   ]
  },
  {
   "cell_type": "code",
   "execution_count": 20,
   "metadata": {},
   "outputs": [
    {
     "data": {
      "text/plain": [
       "Text(0.5, 0, 'Average Speed')"
      ]
     },
     "execution_count": 20,
     "metadata": {},
     "output_type": "execute_result"
    },
    {
     "data": {
      "image/png": "[encoded data removed]",
      "text/plain": [
       "<Figure size 432x288 with 1 Axes>"
      ]
     },
     "metadata": {
      "needs_background": "light"
     },
     "output_type": "display_data"
    }
   ],
   "source": [
    "for key in cross_dict.keys():\n",
    "    plt.hist(cross_dict[key][:][0],bins = 50, label = key, alpha = .5)\n",
    "plt.title('Histogram of car flow on different intersections')\n",
    "plt.ylabel('Frequency')\n",
    "plt.xlabel('Average Speed')"
   ]
  },
  {
   "cell_type": "code",
   "execution_count": null,
   "metadata": {},
   "outputs": [],
   "source": []
  },
  {
   "cell_type": "code",
   "execution_count": 21,
   "metadata": {},
   "outputs": [
    {
     "ename": "TypeError",
     "evalue": "scatter() missing 2 required positional arguments: 'x' and 'y'",
     "output_type": "error",
     "traceback": [
      "\u001b[0;31m---------------------------------------------------------------------------\u001b[0m",
      "\u001b[0;31mTypeError\u001b[0m                                 Traceback (most recent call last)",
      "\u001b[0;32m<ipython-input-21-297a304fab35>\u001b[0m in \u001b[0;36m<module>\u001b[0;34m()\u001b[0m\n\u001b[1;32m      2\u001b[0m \u001b[0;34m\u001b[0m\u001b[0m\n\u001b[1;32m      3\u001b[0m \u001b[0;32mfor\u001b[0m \u001b[0mkey\u001b[0m \u001b[0;32min\u001b[0m \u001b[0mcross_dict\u001b[0m\u001b[0;34m.\u001b[0m\u001b[0mkeys\u001b[0m\u001b[0;34m(\u001b[0m\u001b[0;34m)\u001b[0m\u001b[0;34m:\u001b[0m\u001b[0;34m\u001b[0m\u001b[0;34m\u001b[0m\u001b[0m\n\u001b[0;32m----> 4\u001b[0;31m     \u001b[0mplt\u001b[0m\u001b[0;34m.\u001b[0m\u001b[0mscatter\u001b[0m\u001b[0;34m(\u001b[0m\u001b[0;34m)\u001b[0m\u001b[0;34m\u001b[0m\u001b[0;34m\u001b[0m\u001b[0m\n\u001b[0m",
      "\u001b[0;31mTypeError\u001b[0m: scatter() missing 2 required positional arguments: 'x' and 'y'"
     ]
    }
   ],
   "source": [
    "keys = list(cross_dict.keys())\n",
    "\n",
    "for key in cross_dict.keys():\n",
    "    plt.scatter()"
   ]
  },
  {
   "cell_type": "code",
   "execution_count": null,
   "metadata": {},
   "outputs": [],
   "source": []
  }
 ],
 "metadata": {
  "kernelspec": {
   "display_name": "Python 3",
   "language": "python",
   "name": "python3"
  },
  "language_info": {
   "codemirror_mode": {
    "name": "ipython",
    "version": 3
   },
   "file_extension": ".py",
   "mimetype": "text/x-python",
   "name": "python",
   "nbconvert_exporter": "python",
   "pygments_lexer": "ipython3",
   "version": "3.6.7"
  }
 },
 "nbformat": 4,
 "nbformat_minor": 2
}
