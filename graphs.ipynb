{
 "cells": [
  {
   "cell_type": "code",
   "execution_count": 13,
   "metadata": {},
   "outputs": [],
   "source": [
    "%matplotlib inline\n",
    "import matplotlib.pyplot as plt\n",
    "from lib.DataWriter import DataWriter\n",
    "INTERSECTION_HUMAN = {\n",
    "    0: 'Fourway',\n",
    "    1: 'Traffic lights',\n",
    "    2: 'Equivalent'\n",
    "}"
   ]
  },
  {
   "cell_type": "code",
   "execution_count": 11,
   "metadata": {},
   "outputs": [],
   "source": [
    "def get_parameters(p_spawn=0.1, max_speed_horizontal=3, max_speed_vertical=3, intersection_type=0):\n",
    "    t_traffic_light_cycle=5\n",
    "    p_bend = 0.33\n",
    "    p_u_turn = 0.01\n",
    "    p_left = p_bend\n",
    "    p_right = p_bend\n",
    "    p_straight = p_bend\n",
    "    t_from_north = t_traffic_light_cycle\n",
    "    t_from_west = t_traffic_light_cycle\n",
    "    t_from_east = t_traffic_light_cycle\n",
    "    t_from_south = t_traffic_light_cycle\n",
    "\n",
    "    intersection_type = int(intersection_type)\n",
    "    intersections = ['Fourway', 'Traffic lights', 'Equivalent']\n",
    "    intersection = intersections[intersection_type]\n",
    "\n",
    "    parameters = {\n",
    "        \"max_speed_horizontal\": max_speed_horizontal,\n",
    "        \"max_speed_vertical\": max_speed_vertical,\n",
    "        \"alpha_factor\": 5,\n",
    "        \"beta_factor\": 2,\n",
    "        \"intersection_type\": intersection,\n",
    "        \"t_from_north\": t_from_north,\n",
    "        \"t_from_west\": t_from_west,\n",
    "        \"t_from_east\": t_from_east,\n",
    "        \"t_from_south\": t_from_south,\n",
    "        \"p_car_spawn_north\": p_spawn,\n",
    "        \"p_north_to_north\": p_u_turn,\n",
    "        \"p_north_to_west\": p_right,\n",
    "        \"p_north_to_east\": p_left,\n",
    "        \"p_north_to_south\": p_straight,\n",
    "        \"p_car_spawn_west\": p_spawn,\n",
    "        \"p_west_to_north\": p_left,\n",
    "        \"p_west_to_west\": p_u_turn,\n",
    "        \"p_west_to_east\": p_straight,\n",
    "        \"p_west_to_south\": p_right,\n",
    "        \"p_car_spawn_east\": p_spawn,\n",
    "        \"p_east_to_north\": p_right,\n",
    "        \"p_east_to_west\": p_straight,\n",
    "        \"p_east_to_east\": p_u_turn,\n",
    "        \"p_east_to_south\": p_left,\n",
    "        \"p_car_spawn_south\": p_spawn,\n",
    "        \"p_south_to_north\": p_straight,\n",
    "        \"p_south_to_west\": p_left,\n",
    "        \"p_south_to_east\": p_right,\n",
    "        \"p_south_to_south\": p_u_turn,\n",
    "    }\n",
    "    return parameters\n",
    "\n",
    "def throughput_vs_maximal_speed(p_spawn, max_speed_horizontal, max_speed_vertical):\n",
    "    for intersection_type in [0, 1, 2]:\n",
    "        parameters = get_parameters(p_spawn, max_speed_horizontal, max_speed_vertical, intersection_type)\n",
    "        datawriter = DataWriter()\n",
    "        data = datawriter.get_runs_by_parameters(parameters)\n",
    "        throughput = data['results']['throughput'][-1]\n",
    "        maximal_speed = (data['parameters']['max_speed_vertical'] + data['parameters']['max_speed_horizontal']) / 2.0\n",
    "        plt.scatter(maximal_speed, throughput, label=INTERSECTION_HUMAN[intersection_type])\n",
    "    plt.legend()\n",
    "    plt.xlabel('Maximal speed')\n",
    "    plt.ylabel('Throughput')\n",
    "    plt.show()\n",
    "    \n",
    "def throughput_vs_p_spawn(p_spawn, max_speed_horizontal, max_speed_vertical):\n",
    "    for intersection_type in [0, 1, 2]:\n",
    "        parameters = get_parameters(p_spawn, max_speed_horizontal, max_speed_vertical, intersection_type)\n",
    "        datawriter = DataWriter()\n",
    "        data = datawriter.get_runs_by_parameters(parameters)\n",
    "        throughput = data['results']['throughput'][-1]\n",
    "        maximal_speed = data['parameters']['p_spawn']\n",
    "        plt.scatter(maximal_speed, throughput, label=INTERSECTION_HUMAN[intersection_type])\n",
    "    plt.legend()\n",
    "    plt.xlabel('Maximal speed')\n",
    "    plt.ylabel('Throughput')\n",
    "    plt.show()\n",
    "    \n",
    "def mean_crossover_vs_maximal_speed(p_spawn, max_speed_horizontal, max_speed_vertical):\n",
    "    for intersection_type in [0, 1, 2]:\n",
    "        parameters = get_parameters(p_spawn, max_speed_horizontal, max_speed_vertical, intersection_type)\n",
    "        datawriter = DataWriter()\n",
    "        data = datawriter.get_runs_by_parameters(parameters)\n",
    "        throughput = data['results']['throughput'][-1]\n",
    "        maximal_speed = (data['parameters']['max_speed_vertical'] + data['parameters']['max_speed_horizontal']) / 2.0\n",
    "        plt.scatter(maximal_speed, throughput, label=INTERSECTION_HUMAN[intersection_type])\n",
    "    plt.legend()\n",
    "    plt.xlabel('Maximal speed')\n",
    "    plt.ylabel('Throughput')\n",
    "    plt.show()\n",
    "    \n",
    "def mean_crossover_vs_p_spawn(p_spawn, max_speed_horizontal, max_speed_vertical):\n",
    "    for intersection_type in [0, 1, 2]:\n",
    "        parameters = get_parameters(p_spawn, max_speed_horizontal, max_speed_vertical, intersection_type)\n",
    "        datawriter = DataWriter()\n",
    "        data = datawriter.get_runs_by_parameters(parameters)\n",
    "        throughput = data['results']['throughput'][-1]\n",
    "        maximal_speed = (data['parameters']['max_speed_vertical'] + data['parameters']['max_speed_horizontal']) / 2.0\n",
    "        plt.scatter(maximal_speed, throughput, label=INTERSECTION_HUMAN[intersection_type])\n",
    "    plt.legend()\n",
    "    plt.xlabel('Maximal speed')\n",
    "    plt.ylabel('Throughput')\n",
    "    plt.show()\n",
    "\n",
    "def plots(p_spawn, max_speed_horizontal, max_speed_vertical):\n",
    "    throughput_vs_maximal_speed(p_spawn, max_speed_horizontal, max_speed_vertical)\n",
    "    throughput_vs_p_spawn(p_spawn, max_speed_horizontal, max_speed_vertical)\n",
    "    mean_crossover_vs_maximal_speed(p_spawn, max_speed_horizontal, max_speed_vertical)\n",
    "    mean_crossover_vs_p_spawn(p_spawn, max_speed_horizontal, max_speed_vertical)"
   ]
  },
  {
   "cell_type": "code",
   "execution_count": 14,
   "metadata": {},
   "outputs": [
    {
     "data": {
      "application/vnd.jupyter.widget-view+json": {
       "model_id": "8bc1988c8df24e1e8922f27e2791fc1b",
       "version_major": 2,
       "version_minor": 0
      },
      "text/plain": [
       "interactive(children=(FloatSlider(value=0.5, description='p_spawn', max=1.0, min=0.1), IntSlider(value=9, desc…"
      ]
     },
     "metadata": {},
     "output_type": "display_data"
    },
    {
     "data": {
      "text/plain": [
       "<function __main__.plots(p_spawn, max_speed_horizontal, max_speed_vertical)>"
      ]
     },
     "execution_count": 14,
     "metadata": {},
     "output_type": "execute_result"
    }
   ],
   "source": [
    "from ipywidgets import interact, interactive, fixed, interact_manual\n",
    "import ipywidgets as widgets\n",
    "# Question 3 interactive\n",
    "interact(plots, p_spawn=(0.1, 1, 0.1), max_speed_horizontal=(3, 15, 3), max_speed_vertical=(3, 15, 3))"
   ]
  },
  {
   "cell_type": "code",
   "execution_count": null,
   "metadata": {},
   "outputs": [],
   "source": []
  },
  {
   "cell_type": "code",
   "execution_count": null,
   "metadata": {},
   "outputs": [],
   "source": []
  },
  {
   "cell_type": "code",
   "execution_count": null,
   "metadata": {},
   "outputs": [],
   "source": []
  }
 ],
 "metadata": {
  "kernelspec": {
   "display_name": "Python 3",
   "language": "python",
   "name": "python3"
  },
  "language_info": {
   "codemirror_mode": {
    "name": "ipython",
    "version": 3
   },
   "file_extension": ".py",
   "mimetype": "text/x-python",
   "name": "python",
   "nbconvert_exporter": "python",
   "pygments_lexer": "ipython3",
   "version": "3.6.7"
  }
 },
 "nbformat": 4,
 "nbformat_minor": 2
}
