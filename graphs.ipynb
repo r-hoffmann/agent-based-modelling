{
 "cells": [
  {
   "cell_type": "code",
   "execution_count": 1,
   "metadata": {},
   "outputs": [],
   "source": [
    "%matplotlib inline\n",
    "import matplotlib.pyplot as plt\n",
    "from lib.DataWriter import DataWriter\n",
    "INTERSECTION_HUMAN = {\n",
    "    0: 'Fourway',\n",
    "    1: 'Traffic lights',\n",
    "    2: 'Equivalent'\n",
    "}\n",
    "\n",
    "def get_parameters(p_spawn=0.1, max_speed_horizontal=10, max_speed_vertical=10, intersection_type=0):\n",
    "    t_traffic_light_cycle=5\n",
    "    p_bend = 0.33\n",
    "    p_u_turn = 0.01\n",
    "    p_left = p_bend\n",
    "    p_right = p_bend\n",
    "    p_straight = p_bend\n",
    "    t_from_north = t_traffic_light_cycle\n",
    "    t_from_west = t_traffic_light_cycle\n",
    "    t_from_east = t_traffic_light_cycle\n",
    "    t_from_south = t_traffic_light_cycle\n",
    "\n",
    "    intersection_type = int(intersection_type)\n",
    "    intersections = ['Fourway', 'Traffic lights', 'Equivalent']\n",
    "    intersection = intersections[intersection_type]\n",
    "\n",
    "    parameters = {\n",
    "        \"max_speed_horizontal\": max_speed_horizontal,\n",
    "        \"max_speed_vertical\": max_speed_vertical,\n",
    "        \"bmw_fraction\": 0.1,\n",
    "        \"seed\": 1337,\n",
    "        \"intersection_type\": intersection,\n",
    "        \"t_from_north\": t_from_north,\n",
    "        \"t_from_west\": t_from_west,\n",
    "        \"t_from_east\": t_from_east,\n",
    "        \"t_from_south\": t_from_south,\n",
    "        \"p_car_spawn_north\": p_spawn,\n",
    "        \"p_north_to_north\": p_u_turn,\n",
    "        \"p_north_to_west\": p_right,\n",
    "        \"p_north_to_east\": p_left,\n",
    "        \"p_north_to_south\": p_straight,\n",
    "        \"p_car_spawn_west\": p_spawn,\n",
    "        \"p_west_to_north\": p_left,\n",
    "        \"p_west_to_west\": p_u_turn,\n",
    "        \"p_west_to_east\": p_straight,\n",
    "        \"p_west_to_south\": p_right,\n",
    "        \"p_car_spawn_east\": p_spawn,\n",
    "        \"p_east_to_north\": p_right,\n",
    "        \"p_east_to_west\": p_straight,\n",
    "        \"p_east_to_east\": p_u_turn,\n",
    "        \"p_east_to_south\": p_left,\n",
    "        \"p_car_spawn_south\": p_spawn,\n",
    "        \"p_south_to_north\": p_straight,\n",
    "        \"p_south_to_west\": p_left,\n",
    "        \"p_south_to_east\": p_right,\n",
    "        \"p_south_to_south\": p_u_turn,\n",
    "    }\n",
    "    return parameters\n",
    "\n",
    "def get_mean_last_runs(dataset, i):\n",
    "    n = len(dataset)\n",
    "    k = n - i\n",
    "    return float(dataset[-1] * n - dataset[k] * k) / float(i)"
   ]
  },
  {
   "cell_type": "code",
   "execution_count": 2,
   "metadata": {},
   "outputs": [],
   "source": [
    "def throughput_vs_maximal_speed(**kwargs):\n",
    "    p_spawn = kwargs['p_spawn']\n",
    "    datawriter = DataWriter()\n",
    "    for intersection_type in [0, 1, 2]:\n",
    "        throughput = []\n",
    "        maximal_speed = []\n",
    "        for max_speed in range(3, 24):\n",
    "            max_speed_horizontal = max_speed_vertical = max_speed\n",
    "            parameters = get_parameters(p_spawn, max_speed_horizontal, max_speed_vertical, intersection_type)\n",
    "            data = datawriter.get_runs_by_parameters(parameters)\n",
    "            throughput.append(get_mean_last_runs(data['results']['throughput'], 900))\n",
    "            maximal_speed.append((data['parameters']['max_speed_vertical'] + data['parameters']['max_speed_horizontal']) / 2.0)\n",
    "        plt.scatter(maximal_speed, throughput, label=INTERSECTION_HUMAN[intersection_type])\n",
    "    plt.legend()\n",
    "    plt.xlabel('Maximal speed')\n",
    "    plt.ylabel('Throughput')\n",
    "    plt.show()\n",
    "    \n",
    "def mean_crossover_vs_maximal_speed(**kwargs):\n",
    "    p_spawn = kwargs['p_spawn']\n",
    "    datawriter = DataWriter()\n",
    "    for intersection_type in [0, 1, 2]:\n",
    "        mean_crossover = []\n",
    "        maximal_speed = []\n",
    "        for max_speed in range(3, 24):\n",
    "            max_speed_horizontal = max_speed_vertical = max_speed\n",
    "            parameters = get_parameters(p_spawn, max_speed_horizontal, max_speed_vertical, intersection_type)\n",
    "            data = datawriter.get_runs_by_parameters(parameters)\n",
    "            mean_crossover.append(data['results']['mean_crossover_time'][-1])\n",
    "            maximal_speed.append((data['parameters']['max_speed_vertical'] + data['parameters']['max_speed_horizontal']) / 2.0)\n",
    "        plt.scatter(maximal_speed, mean_crossover, label=INTERSECTION_HUMAN[intersection_type])\n",
    "    plt.legend()\n",
    "    plt.xlabel('Maximal speed')\n",
    "    plt.ylabel('Mean crossover time')\n",
    "    plt.show()\n",
    "    \n",
    "def throughput_vs_p_spawn(**kwargs):\n",
    "    max_speed_horizontal = kwargs['max_speed_horizontal']\n",
    "    max_speed_vertical = kwargs['max_speed_vertical']\n",
    "    datawriter = DataWriter()\n",
    "    for intersection_type in [0, 1, 2]:\n",
    "        throughput = []\n",
    "        p_spawn = []\n",
    "        for p in range(1, 10):\n",
    "            p = p / 10.0\n",
    "            parameters = get_parameters(p, max_speed_horizontal, max_speed_vertical, intersection_type)\n",
    "            data = datawriter.get_runs_by_parameters(parameters)\n",
    "            p_spawn.append(p)\n",
    "            throughput.append(data['results']['throughput'][-1])\n",
    "        plt.scatter(p_spawn, throughput, label=INTERSECTION_HUMAN[intersection_type])\n",
    "    plt.legend()\n",
    "    plt.xlabel('Spawning probability')\n",
    "    plt.ylabel('Throughput')\n",
    "    plt.show()\n",
    "    \n",
    "def mean_crossover_vs_p_spawn(**kwargs):\n",
    "    max_speed_horizontal = kwargs['max_speed_horizontal']\n",
    "    max_speed_vertical = kwargs['max_speed_vertical']\n",
    "    datawriter = DataWriter()\n",
    "    for intersection_type in [0, 1, 2]:\n",
    "        mean_crossover = []\n",
    "        p_spawn = []\n",
    "        for p in range(1, 10):\n",
    "            p = p / 10.0\n",
    "            parameters = get_parameters(p, max_speed_horizontal, max_speed_vertical, intersection_type)\n",
    "            data = datawriter.get_runs_by_parameters(parameters)\n",
    "            p_spawn.append(p)\n",
    "            mean_crossover.append(data['results']['mean_crossover_time'][-1])\n",
    "        plt.scatter(p_spawn, mean_crossover, label=INTERSECTION_HUMAN[intersection_type])\n",
    "    plt.legend()\n",
    "    plt.xlabel('Spawning probability')\n",
    "    plt.ylabel('Mean crossover time')\n",
    "    plt.show()\n",
    "\n",
    "def plots_1(**kwargs):\n",
    "    throughput_vs_maximal_speed(**kwargs)\n",
    "    mean_crossover_vs_maximal_speed(**kwargs)\n",
    "    throughput_vs_p_spawn(**kwargs)\n",
    "    mean_crossover_vs_p_spawn(**kwargs)"
   ]
  },
  {
   "cell_type": "code",
   "execution_count": 10,
   "metadata": {
    "scrolled": false
   },
   "outputs": [
    {
     "data": {
      "application/vnd.jupyter.widget-view+json": {
       "model_id": "c1ea6b14362a4677b935fdc30912cb12",
       "version_major": 2,
       "version_minor": 0
      },
      "text/plain": [
       "interactive(children=(FloatSlider(value=0.5, description='p_spawn', max=1.0, min=0.1), IntSlider(value=13, des…"
      ]
     },
     "metadata": {},
     "output_type": "display_data"
    },
    {
     "data": {
      "text/plain": [
       "<function __main__.plots_1>"
      ]
     },
     "execution_count": 10,
     "metadata": {},
     "output_type": "execute_result"
    }
   ],
   "source": [
    "from ipywidgets import interact, interactive, fixed, interact_manual\n",
    "import ipywidgets as widgets\n",
    "# Question 3 interactive\n",
    "interact(plots_1, p_spawn=(0.1, 1, 0.1), max_speed_horizontal=(3, 24), max_speed_vertical=(3, 24))"
   ]
  },
  {
   "cell_type": "code",
   "execution_count": 4,
   "metadata": {},
   "outputs": [
    {
     "name": "stdout",
     "output_type": "stream",
     "text": [
      "y=0.793939393939394x+0.5333333333333332 with R^2=0.7133474664338862\n"
     ]
    },
    {
     "data": {
      "image/png": "[encoded data removed]",
      "text/plain": [
       "<Figure size 432x288 with 1 Axes>"
      ]
     },
     "metadata": {
      "needs_background": "light"
     },
     "output_type": "display_data"
    }
   ],
   "source": [
    "# Fit line to data\n",
    "\n",
    "import numpy as np\n",
    "import matplotlib.pyplot as plt\n",
    "from sklearn.linear_model import LinearRegression\n",
    "\n",
    "x = np.array([1, 2, 3, 4, 5, 6, 7, 8, 9, 10]).reshape(-1, 1)\n",
    "y = np.array([1, 3, 4, 2, 6, 5, 5, 4, 9, 10]).reshape(-1, 1)\n",
    "\n",
    "# create a linear regression model\n",
    "model = LinearRegression()\n",
    "model.fit(x, y)\n",
    "a = model.coef_\n",
    "b = model.intercept_\n",
    "R2 = model.score(x, y)\n",
    "print(\"y={}x+{} with R^2={}\".format(a[0][0], b[0], R2))\n",
    "\n",
    "# predict y from the data\n",
    "x_new = np.linspace(0, 10, 100)\n",
    "y_new = model.predict(x_new[:, np.newaxis])\n",
    "\n",
    "# plot the results\n",
    "ax = plt.axes()\n",
    "ax.scatter(x, y)\n",
    "ax.plot(x_new, y_new)\n",
    "\n",
    "ax.set_xlabel('x')\n",
    "ax.set_ylabel('y')\n",
    "\n",
    "plt.show()"
   ]
  }
 ],
 "metadata": {
  "kernelspec": {
   "display_name": "Python 3",
   "language": "python",
   "name": "python3"
  },
  "language_info": {
   "codemirror_mode": {
    "name": "ipython",
    "version": 3
   },
   "file_extension": ".py",
   "mimetype": "text/x-python",
   "name": "python",
   "nbconvert_exporter": "python",
   "pygments_lexer": "ipython3",
   "version": "3.6.7"
  }
 },
 "nbformat": 4,
 "nbformat_minor": 2
}
