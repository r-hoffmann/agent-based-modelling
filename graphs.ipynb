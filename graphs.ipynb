{
 "cells": [
  {
   "cell_type": "code",
   "execution_count": 13,
   "metadata": {},
   "outputs": [],
   "source": [
    "%matplotlib inline\n",
    "import matplotlib.pyplot as plt\n",
    "from lib.DataWriter import DataWriter\n",
    "INTERSECTION_HUMAN = {\n",
    "    0: 'Fourway',\n",
    "    1: 'Traffic lights',\n",
    "    2: 'Equivalent'\n",
    "}"
   ]
  },
  {
   "cell_type": "code",
   "execution_count": 34,
   "metadata": {},
   "outputs": [],
   "source": [
    "def get_parameters(p_spawn=0.1, max_speed_horizontal=3, max_speed_vertical=3, intersection_type=0):\n",
    "    t_traffic_light_cycle=5\n",
    "    p_bend = 0.33\n",
    "    p_u_turn = 0.01\n",
    "    p_left = p_bend\n",
    "    p_right = p_bend\n",
    "    p_straight = p_bend\n",
    "    t_from_north = t_traffic_light_cycle\n",
    "    t_from_west = t_traffic_light_cycle\n",
    "    t_from_east = t_traffic_light_cycle\n",
    "    t_from_south = t_traffic_light_cycle\n",
    "\n",
    "    intersection_type = int(intersection_type)\n",
    "    intersections = ['Fourway', 'Traffic lights', 'Equivalent']\n",
    "    intersection = intersections[intersection_type]\n",
    "\n",
    "    parameters = {\n",
    "        \"max_speed_horizontal\": max_speed_horizontal,\n",
    "        \"max_speed_vertical\": max_speed_vertical,\n",
    "        \"alpha_factor\": 5,\n",
    "        \"beta_factor\": 2,\n",
    "        \"intersection_type\": intersection,\n",
    "        \"t_from_north\": t_from_north,\n",
    "        \"t_from_west\": t_from_west,\n",
    "        \"t_from_east\": t_from_east,\n",
    "        \"t_from_south\": t_from_south,\n",
    "        \"p_car_spawn_north\": p_spawn,\n",
    "        \"p_north_to_north\": p_u_turn,\n",
    "        \"p_north_to_west\": p_right,\n",
    "        \"p_north_to_east\": p_left,\n",
    "        \"p_north_to_south\": p_straight,\n",
    "        \"p_car_spawn_west\": p_spawn,\n",
    "        \"p_west_to_north\": p_left,\n",
    "        \"p_west_to_west\": p_u_turn,\n",
    "        \"p_west_to_east\": p_straight,\n",
    "        \"p_west_to_south\": p_right,\n",
    "        \"p_car_spawn_east\": p_spawn,\n",
    "        \"p_east_to_north\": p_right,\n",
    "        \"p_east_to_west\": p_straight,\n",
    "        \"p_east_to_east\": p_u_turn,\n",
    "        \"p_east_to_south\": p_left,\n",
    "        \"p_car_spawn_south\": p_spawn,\n",
    "        \"p_south_to_north\": p_straight,\n",
    "        \"p_south_to_west\": p_left,\n",
    "        \"p_south_to_east\": p_right,\n",
    "        \"p_south_to_south\": p_u_turn,\n",
    "    }\n",
    "    return parameters\n",
    "\n",
    "def throughput_vs_maximal_speed(p_spawn):\n",
    "    for intersection_type in [0, 1, 2]:\n",
    "        throughput = []\n",
    "        maximal_speed = []\n",
    "        for max_speed in range(3, 15):\n",
    "            max_speed_horizontal = max_speed_vertical = max_speed\n",
    "            parameters = get_parameters(p_spawn, max_speed_horizontal, max_speed_vertical, intersection_type)\n",
    "            datawriter = DataWriter()\n",
    "            data = datawriter.get_runs_by_parameters(parameters)\n",
    "            throughput.append(data['results']['throughput'][-1])\n",
    "            maximal_speed.append((data['parameters']['max_speed_vertical'] + data['parameters']['max_speed_horizontal']) / 2.0)\n",
    "        plt.scatter(maximal_speed, throughput, label=INTERSECTION_HUMAN[intersection_type])\n",
    "    plt.legend()\n",
    "    plt.xlabel('Maximal speed')\n",
    "    plt.ylabel('Throughput')\n",
    "    plt.show()\n",
    "    \n",
    "def throughput_vs_p_spawn(p_spawn, max_speed_horizontal, max_speed_vertical):\n",
    "    for intersection_type in [0, 1, 2]:\n",
    "        parameters = get_parameters(p_spawn, max_speed_horizontal, max_speed_vertical, intersection_type)\n",
    "        datawriter = DataWriter()\n",
    "        data = datawriter.get_runs_by_parameters(parameters)\n",
    "        throughput = data['results']['throughput'][-1]\n",
    "        plt.scatter(p_spawn, throughput, label=INTERSECTION_HUMAN[intersection_type])\n",
    "    plt.legend()\n",
    "    plt.xlabel('Spawning probability')\n",
    "    plt.ylabel('Throughput')\n",
    "    plt.show()\n",
    "    \n",
    "def mean_crossover_vs_maximal_speed(p_spawn, max_speed_horizontal, max_speed_vertical):\n",
    "    for intersection_type in [0, 1, 2]:\n",
    "        parameters = get_parameters(p_spawn, max_speed_horizontal, max_speed_vertical, intersection_type)\n",
    "        datawriter = DataWriter()\n",
    "        data = datawriter.get_runs_by_parameters(parameters)\n",
    "        mean_crossover_time = data['results']['mean_crossover_time'][-1]\n",
    "        maximal_speed = (data['parameters']['max_speed_vertical'] + data['parameters']['max_speed_horizontal']) / 2.0\n",
    "        plt.scatter(maximal_speed, mean_crossover_time, label=INTERSECTION_HUMAN[intersection_type])\n",
    "    plt.legend()\n",
    "    plt.xlabel('Maximal speed')\n",
    "    plt.ylabel('Mean crossover time')\n",
    "    plt.show()\n",
    "    \n",
    "def mean_crossover_vs_p_spawn(p_spawn, max_speed_horizontal, max_speed_vertical):\n",
    "    for intersection_type in [0, 1, 2]:\n",
    "        parameters = get_parameters(p_spawn, max_speed_horizontal, max_speed_vertical, intersection_type)\n",
    "        datawriter = DataWriter()\n",
    "        data = datawriter.get_runs_by_parameters(parameters)\n",
    "        mean_crossover_time = data['results']['mean_crossover_time'][-1]\n",
    "        plt.scatter(p_spawn, mean_crossover_time, label=INTERSECTION_HUMAN[intersection_type])\n",
    "    plt.legend()\n",
    "    plt.xlabel('Spawning probability')\n",
    "    plt.ylabel('Mean crossover time')\n",
    "    plt.show()\n",
    "\n",
    "def plots_1(p_spawn):\n",
    "    throughput_vs_maximal_speed(p_spawn)\n",
    "    throughput_vs_p_spawn(p_spawn)\n",
    "    mean_crossover_vs_maximal_speed(p_spawn)\n",
    "    mean_crossover_vs_p_spawn(p_spawn)"
   ]
  },
  {
   "cell_type": "code",
   "execution_count": 35,
   "metadata": {},
   "outputs": [
    {
     "data": {
      "application/vnd.jupyter.widget-view+json": {
       "model_id": "cfd6b0b5138e4d47a761fd320a1077b0",
       "version_major": 2,
       "version_minor": 0
      },
      "text/plain": [
       "interactive(children=(FloatSlider(value=0.5, description='p_spawn', max=1.0, min=0.1), Output()), _dom_classes…"
      ]
     },
     "metadata": {},
     "output_type": "display_data"
    },
    {
     "data": {
      "text/plain": [
       "<function __main__.plots_1(p_spawn)>"
      ]
     },
     "execution_count": 35,
     "metadata": {},
     "output_type": "execute_result"
    }
   ],
   "source": [
    "from ipywidgets import interact, interactive, fixed, interact_manual\n",
    "import ipywidgets as widgets\n",
    "# Question 3 interactive\n",
    "interact(plots_1, p_spawn=(0.1, 1, 0.1))"
   ]
  },
  {
   "cell_type": "code",
   "execution_count": null,
   "metadata": {},
   "outputs": [],
   "source": []
  },
  {
   "cell_type": "code",
   "execution_count": null,
   "metadata": {},
   "outputs": [],
   "source": []
  },
  {
   "cell_type": "code",
   "execution_count": null,
   "metadata": {},
   "outputs": [],
   "source": []
  }
 ],
 "metadata": {
  "kernelspec": {
   "display_name": "Python 3",
   "language": "python",
   "name": "python3"
  },
  "language_info": {
   "codemirror_mode": {
    "name": "ipython",
    "version": 3
   },
   "file_extension": ".py",
   "mimetype": "text/x-python",
   "name": "python",
   "nbconvert_exporter": "python",
   "pygments_lexer": "ipython3",
   "version": "3.6.7"
  }
 },
 "nbformat": 4,
 "nbformat_minor": 2
}
